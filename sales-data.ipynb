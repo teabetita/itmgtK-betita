{
 "cells": [
  {
   "cell_type": "code",
   "execution_count": 12,
   "metadata": {},
   "outputs": [
    {
     "name": "stdout",
     "output_type": "stream",
     "text": [
      "Defaulting to user installation because normal site-packages is not writeable\n",
      "Collecting pandas\n",
      "  Downloading pandas-2.0.3-cp39-cp39-macosx_11_0_arm64.whl (10.9 MB)\n",
      "\u001b[K     |████████████████████████████████| 10.9 MB 192 kB/s eta 0:00:01\n",
      "\u001b[?25hCollecting pytz>=2020.1\n",
      "  Downloading pytz-2023.3-py2.py3-none-any.whl (502 kB)\n",
      "\u001b[K     |████████████████████████████████| 502 kB 3.9 MB/s eta 0:00:01\n",
      "\u001b[?25hCollecting tzdata>=2022.1\n",
      "  Downloading tzdata-2023.3-py2.py3-none-any.whl (341 kB)\n",
      "\u001b[K     |████████████████████████████████| 341 kB 3.1 MB/s eta 0:00:01\n",
      "\u001b[?25hCollecting numpy>=1.20.3\n",
      "  Downloading numpy-1.25.0-cp39-cp39-macosx_11_0_arm64.whl (14.0 MB)\n",
      "\u001b[K     |████████████████████████████████| 14.0 MB 2.7 MB/s eta 0:00:01\n",
      "\u001b[?25hRequirement already satisfied: python-dateutil>=2.8.2 in /Users/teabetita/Library/Python/3.9/lib/python/site-packages (from pandas) (2.8.2)\n",
      "Requirement already satisfied: six>=1.5 in /Library/Developer/CommandLineTools/Library/Frameworks/Python3.framework/Versions/3.9/lib/python3.9/site-packages (from python-dateutil>=2.8.2->pandas) (1.15.0)\n",
      "Installing collected packages: tzdata, pytz, numpy, pandas\n",
      "Successfully installed numpy-1.25.0 pandas-2.0.3 pytz-2023.3 tzdata-2023.3\n",
      "\u001b[33mWARNING: You are using pip version 21.2.4; however, version 23.1.2 is available.\n",
      "You should consider upgrading via the '/Library/Developer/CommandLineTools/usr/bin/python3 -m pip install --upgrade pip' command.\u001b[0m\n",
      "Note: you may need to restart the kernel to use updated packages.\n"
     ]
    }
   ],
   "source": [
    "%pip install pandas \n",
    "import pandas as pd\n"
   ]
  },
  {
   "cell_type": "code",
   "execution_count": 22,
   "metadata": {},
   "outputs": [
    {
     "data": {
      "text/html": [
       "<div>\n",
       "<style scoped>\n",
       "    .dataframe tbody tr th:only-of-type {\n",
       "        vertical-align: middle;\n",
       "    }\n",
       "\n",
       "    .dataframe tbody tr th {\n",
       "        vertical-align: top;\n",
       "    }\n",
       "\n",
       "    .dataframe thead th {\n",
       "        text-align: right;\n",
       "    }\n",
       "</style>\n",
       "<table border=\"1\" class=\"dataframe\">\n",
       "  <thead>\n",
       "    <tr style=\"text-align: right;\">\n",
       "      <th></th>\n",
       "      <th>invoice_no</th>\n",
       "      <th>customer_id</th>\n",
       "      <th>category</th>\n",
       "      <th>quantity</th>\n",
       "      <th>price</th>\n",
       "      <th>payment_method</th>\n",
       "      <th>invoice_date</th>\n",
       "      <th>shopping_mall</th>\n",
       "    </tr>\n",
       "  </thead>\n",
       "  <tbody>\n",
       "    <tr>\n",
       "      <th>0</th>\n",
       "      <td>I138884</td>\n",
       "      <td>229</td>\n",
       "      <td>Clothing</td>\n",
       "      <td>5</td>\n",
       "      <td>1500.40</td>\n",
       "      <td>Credit Card</td>\n",
       "      <td>5/8/2022</td>\n",
       "      <td>Kanyon</td>\n",
       "    </tr>\n",
       "    <tr>\n",
       "      <th>1</th>\n",
       "      <td>I317333</td>\n",
       "      <td>3433</td>\n",
       "      <td>Shoes</td>\n",
       "      <td>3</td>\n",
       "      <td>1800.51</td>\n",
       "      <td>Debit Card</td>\n",
       "      <td>12/12/2021</td>\n",
       "      <td>Forum Istanbul</td>\n",
       "    </tr>\n",
       "    <tr>\n",
       "      <th>2</th>\n",
       "      <td>I127801</td>\n",
       "      <td>644</td>\n",
       "      <td>Clothing</td>\n",
       "      <td>1</td>\n",
       "      <td>300.08</td>\n",
       "      <td>Cash</td>\n",
       "      <td>9/11/2021</td>\n",
       "      <td>Metrocity</td>\n",
       "    </tr>\n",
       "    <tr>\n",
       "      <th>3</th>\n",
       "      <td>I173702</td>\n",
       "      <td>4900</td>\n",
       "      <td>Shoes</td>\n",
       "      <td>5</td>\n",
       "      <td>3000.85</td>\n",
       "      <td>Credit Card</td>\n",
       "      <td>16/05/2021</td>\n",
       "      <td>Metropol AVM</td>\n",
       "    </tr>\n",
       "    <tr>\n",
       "      <th>4</th>\n",
       "      <td>I337046</td>\n",
       "      <td>1089</td>\n",
       "      <td>Books</td>\n",
       "      <td>4</td>\n",
       "      <td>60.60</td>\n",
       "      <td>Cash</td>\n",
       "      <td>24/10/2021</td>\n",
       "      <td>Kanyon</td>\n",
       "    </tr>\n",
       "    <tr>\n",
       "      <th>...</th>\n",
       "      <td>...</td>\n",
       "      <td>...</td>\n",
       "      <td>...</td>\n",
       "      <td>...</td>\n",
       "      <td>...</td>\n",
       "      <td>...</td>\n",
       "      <td>...</td>\n",
       "      <td>...</td>\n",
       "    </tr>\n",
       "    <tr>\n",
       "      <th>99452</th>\n",
       "      <td>I219422</td>\n",
       "      <td>2344</td>\n",
       "      <td>Souvenir</td>\n",
       "      <td>5</td>\n",
       "      <td>58.65</td>\n",
       "      <td>Credit Card</td>\n",
       "      <td>21/09/2022</td>\n",
       "      <td>Kanyon</td>\n",
       "    </tr>\n",
       "    <tr>\n",
       "      <th>99453</th>\n",
       "      <td>I325143</td>\n",
       "      <td>172</td>\n",
       "      <td>Food &amp; Beverage</td>\n",
       "      <td>2</td>\n",
       "      <td>10.46</td>\n",
       "      <td>Cash</td>\n",
       "      <td>22/09/2021</td>\n",
       "      <td>Forum Istanbul</td>\n",
       "    </tr>\n",
       "    <tr>\n",
       "      <th>99454</th>\n",
       "      <td>I824010</td>\n",
       "      <td>425</td>\n",
       "      <td>Food &amp; Beverage</td>\n",
       "      <td>2</td>\n",
       "      <td>10.46</td>\n",
       "      <td>Debit Card</td>\n",
       "      <td>28/03/2021</td>\n",
       "      <td>Metrocity</td>\n",
       "    </tr>\n",
       "    <tr>\n",
       "      <th>99455</th>\n",
       "      <td>I702964</td>\n",
       "      <td>577</td>\n",
       "      <td>Technology</td>\n",
       "      <td>4</td>\n",
       "      <td>4200.00</td>\n",
       "      <td>Cash</td>\n",
       "      <td>16/03/2021</td>\n",
       "      <td>Istinye Park</td>\n",
       "    </tr>\n",
       "    <tr>\n",
       "      <th>99456</th>\n",
       "      <td>I232867</td>\n",
       "      <td>30</td>\n",
       "      <td>Souvenir</td>\n",
       "      <td>3</td>\n",
       "      <td>35.19</td>\n",
       "      <td>Credit Card</td>\n",
       "      <td>15/10/2022</td>\n",
       "      <td>Mall of Istanbul</td>\n",
       "    </tr>\n",
       "  </tbody>\n",
       "</table>\n",
       "<p>99457 rows × 8 columns</p>\n",
       "</div>"
      ],
      "text/plain": [
       "      invoice_no  customer_id         category  quantity    price  \\\n",
       "0        I138884          229         Clothing         5  1500.40   \n",
       "1        I317333         3433            Shoes         3  1800.51   \n",
       "2        I127801          644         Clothing         1   300.08   \n",
       "3        I173702         4900            Shoes         5  3000.85   \n",
       "4        I337046         1089            Books         4    60.60   \n",
       "...          ...          ...              ...       ...      ...   \n",
       "99452    I219422         2344         Souvenir         5    58.65   \n",
       "99453    I325143          172  Food & Beverage         2    10.46   \n",
       "99454    I824010          425  Food & Beverage         2    10.46   \n",
       "99455    I702964          577       Technology         4  4200.00   \n",
       "99456    I232867           30         Souvenir         3    35.19   \n",
       "\n",
       "      payment_method invoice_date     shopping_mall  \n",
       "0        Credit Card     5/8/2022            Kanyon  \n",
       "1         Debit Card   12/12/2021    Forum Istanbul  \n",
       "2               Cash    9/11/2021         Metrocity  \n",
       "3        Credit Card   16/05/2021      Metropol AVM  \n",
       "4               Cash   24/10/2021            Kanyon  \n",
       "...              ...          ...               ...  \n",
       "99452    Credit Card   21/09/2022            Kanyon  \n",
       "99453           Cash   22/09/2021    Forum Istanbul  \n",
       "99454     Debit Card   28/03/2021         Metrocity  \n",
       "99455           Cash   16/03/2021      Istinye Park  \n",
       "99456    Credit Card   15/10/2022  Mall of Istanbul  \n",
       "\n",
       "[99457 rows x 8 columns]"
      ]
     },
     "execution_count": 22,
     "metadata": {},
     "output_type": "execute_result"
    }
   ],
   "source": [
    "df = pd.read_csv(\"fct_invoice.csv\")\n",
    "df"
   ]
  },
  {
   "cell_type": "code",
   "execution_count": 23,
   "metadata": {},
   "outputs": [
    {
     "data": {
      "text/plain": [
       "Index(['invoice_no', 'customer_id', 'category', 'quantity', 'price',\n",
       "       'payment_method', 'invoice_date', 'shopping_mall'],\n",
       "      dtype='object')"
      ]
     },
     "execution_count": 23,
     "metadata": {},
     "output_type": "execute_result"
    }
   ],
   "source": [
    "df.columns"
   ]
  },
  {
   "cell_type": "code",
   "execution_count": 25,
   "metadata": {},
   "outputs": [
    {
     "data": {
      "text/plain": [
       "Index(['age', 'first_name', 'gender', 'id', 'last_name'], dtype='object')"
      ]
     },
     "execution_count": 25,
     "metadata": {},
     "output_type": "execute_result"
    }
   ],
   "source": [
    "dp.columns"
   ]
  },
  {
   "cell_type": "code",
   "execution_count": 24,
   "metadata": {},
   "outputs": [],
   "source": [
    "import json\n",
    "\n",
    "with open(\"dim_customer.json\") as p:\n",
    "\tdata = json.load(p)\n",
    "\tdp=pd.DataFrame(data)\n",
    "    \n"
   ]
  },
  {
   "cell_type": "code",
   "execution_count": 86,
   "metadata": {},
   "outputs": [
    {
     "name": "stdout",
     "output_type": "stream",
     "text": [
      "5191\n",
      "customer_id\n",
      "50    128\n",
      "7     121\n",
      "4     117\n",
      "80    113\n",
      "74    112\n",
      "61    112\n",
      "75    110\n",
      "53    110\n",
      "26    109\n",
      "45    109\n",
      "Name: count, dtype: int64\n",
      "----\n",
      "['Clothing' 'Shoes' 'Books' 'Cosmetics' 'Food & Beverage' 'Toys'\n",
      " 'Technology' 'Souvenir']\n",
      "number of unique categories: 8\n",
      "----\n",
      "Credit Card: 34931\n",
      "Debit Card: 20079\n",
      "Cash: 44447\n",
      "TOTAL: 99457\n",
      "----\n",
      "['Kanyon' 'Forum Istanbul' 'Metrocity' 'Metropol AVM' 'Istinye Park'\n",
      " 'Mall of Istanbul' 'Emaar Square Mall' 'Cevahir AVM' 'Viaport Outlet'\n",
      " 'Zorlu Center']\n"
     ]
    },
    {
     "data": {
      "text/plain": [
       "shopping_mall\n",
       "Cevahir AVM          12645138.20\n",
       "Emaar Square Mall    12406100.29\n",
       "Forum Istanbul       12303921.24\n",
       "Istinye Park         24618827.68\n",
       "Kanyon               50554231.10\n",
       "Mall of Istanbul     50872481.68\n",
       "Metrocity            37302787.33\n",
       "Metropol AVM         25379913.19\n",
       "Viaport Outlet       12521339.72\n",
       "Zorlu Center         12901053.82\n",
       "Name: total_revenues, dtype: float64"
      ]
     },
     "execution_count": 86,
     "metadata": {},
     "output_type": "execute_result"
    }
   ],
   "source": [
    "#Describing the data only (using only single column):\n",
    "#1. How many unique customers are there in the dataset? Can you identify any frequent or loyal customers?\n",
    "unique_customers = df[\"customer_id\"].unique()\n",
    "print(len(unique_customers))\n",
    "print(df[\"customer_id\"].value_counts()[0:10])\n",
    "print(\"----\")\n",
    "\n",
    "#2. What are the different categories of products available? How many unique categories are there?\n",
    "different_categories = df[\"category\"].unique()\n",
    "print(different_categories)\n",
    "print(\"number of unique categories:\", len(different_categories))\n",
    "print(\"----\")\n",
    "\n",
    "#3. What are the different payment methods used by customers? Which payment methods are the most popular?\n",
    "payment_methods = df[\"payment_method\"]\n",
    "credit_card = len(df.loc[df[\"payment_method\"]==\"Credit Card\"])\n",
    "debit_card = len(df.loc[df[\"payment_method\"]==\"Debit Card\"])\n",
    "cash = len(df.loc[df[\"payment_method\"]==\"Cash\"])\n",
    "print(\"Credit Card:\", credit_card)\n",
    "print(\"Debit Card:\", debit_card)\n",
    "print(\"Cash:\", cash)\n",
    "print(\"TOTAL:\", int(credit_card + debit_card + cash))\n",
    "print(\"----\")\n",
    "\n",
    "#4. How is the data distributed across different invoice dates? Are there any seasonal trends or patterns?\n",
    "\n",
    "\n",
    "#5. Which shopping malls are included in the dataset? Are there any malls that contribute more sales than others?\n",
    "shopping_malls = df[\"shopping_mall\"].unique()\n",
    "print(shopping_malls)\n",
    "\n",
    "df[\"total_revenues\"] = df[\"quantity\"] * df[\"price\"]\n",
    "df.head()\n",
    "\n",
    "df.groupby(\"shopping_mall\").sum()[\"total_revenues\"]\n"
   ]
  },
  {
   "cell_type": "code",
   "execution_count": 119,
   "metadata": {},
   "outputs": [
    {
     "name": "stdout",
     "output_type": "stream",
     "text": [
      "shopping_mall      gender\n",
      "Cevahir AVM        F          2594\n",
      "                   M          2397\n",
      "Emaar Square Mall  F          2460\n",
      "                   M          2351\n",
      "Forum Istanbul     F          2640\n",
      "                   M          2307\n",
      "Istinye Park       F          5016\n",
      "                   M          4765\n",
      "Kanyon             F         10244\n",
      "                   M          9579\n",
      "Mall of Istanbul   F         10233\n",
      "                   M          9710\n",
      "Metrocity          F          7756\n",
      "                   M          7255\n",
      "Metropol AVM       F          5230\n",
      "                   M          4931\n",
      "Viaport Outlet     F          2548\n",
      "                   M          2366\n",
      "Zorlu Center       F          2665\n",
      "                   M          2410\n",
      "Name: count, dtype: int64\n"
     ]
    }
   ],
   "source": [
    "#Using two or more columns:\n",
    "#1. How many males or females are shopping in the particular shopping mall\n",
    "merged_df = pd.merge(df[[\"shopping_mall\"]], dp[[\"age\",\"gender\"]],left_on = df[\"customer_id\"],right_on =[dp[\"id\"]])\n",
    "\n",
    "counts = merged_df.groupby('shopping_mall')['gender'].value_counts()\n",
    "\n",
    "print(counts)\n"
   ]
  },
  {
   "cell_type": "code",
   "execution_count": 126,
   "metadata": {},
   "outputs": [
    {
     "data": {
      "text/html": [
       "<div>\n",
       "<style scoped>\n",
       "    .dataframe tbody tr th:only-of-type {\n",
       "        vertical-align: middle;\n",
       "    }\n",
       "\n",
       "    .dataframe tbody tr th {\n",
       "        vertical-align: top;\n",
       "    }\n",
       "\n",
       "    .dataframe thead th {\n",
       "        text-align: right;\n",
       "    }\n",
       "</style>\n",
       "<table border=\"1\" class=\"dataframe\">\n",
       "  <thead>\n",
       "    <tr style=\"text-align: right;\">\n",
       "      <th></th>\n",
       "      <th>customer_id</th>\n",
       "      <th>shopping_mall</th>\n",
       "      <th>id</th>\n",
       "      <th>age</th>\n",
       "      <th>first_name</th>\n",
       "      <th>gender</th>\n",
       "      <th>last_name</th>\n",
       "    </tr>\n",
       "  </thead>\n",
       "  <tbody>\n",
       "    <tr>\n",
       "      <th>0</th>\n",
       "      <td>229</td>\n",
       "      <td>Kanyon</td>\n",
       "      <td>229</td>\n",
       "      <td>NaN</td>\n",
       "      <td>William</td>\n",
       "      <td>M</td>\n",
       "      <td>Anderson</td>\n",
       "    </tr>\n",
       "    <tr>\n",
       "      <th>1</th>\n",
       "      <td>3433</td>\n",
       "      <td>Forum Istanbul</td>\n",
       "      <td>3433</td>\n",
       "      <td>34.0</td>\n",
       "      <td>Danielle</td>\n",
       "      <td>F</td>\n",
       "      <td>Rivera</td>\n",
       "    </tr>\n",
       "    <tr>\n",
       "      <th>2</th>\n",
       "      <td>644</td>\n",
       "      <td>Metrocity</td>\n",
       "      <td>644</td>\n",
       "      <td>46.0</td>\n",
       "      <td>Christopher</td>\n",
       "      <td>M</td>\n",
       "      <td>Stephens</td>\n",
       "    </tr>\n",
       "    <tr>\n",
       "      <th>3</th>\n",
       "      <td>4900</td>\n",
       "      <td>Metropol AVM</td>\n",
       "      <td>4900</td>\n",
       "      <td>46.0</td>\n",
       "      <td>Laura</td>\n",
       "      <td>F</td>\n",
       "      <td>Kelly</td>\n",
       "    </tr>\n",
       "    <tr>\n",
       "      <th>4</th>\n",
       "      <td>1089</td>\n",
       "      <td>Kanyon</td>\n",
       "      <td>1089</td>\n",
       "      <td>NaN</td>\n",
       "      <td>Richard</td>\n",
       "      <td>M</td>\n",
       "      <td>Rhodes</td>\n",
       "    </tr>\n",
       "  </tbody>\n",
       "</table>\n",
       "</div>"
      ],
      "text/plain": [
       "   customer_id   shopping_mall    id   age   first_name gender last_name\n",
       "0          229          Kanyon   229   NaN      William      M  Anderson\n",
       "1         3433  Forum Istanbul  3433  34.0     Danielle      F    Rivera\n",
       "2          644       Metrocity   644  46.0  Christopher      M  Stephens\n",
       "3         4900    Metropol AVM  4900  46.0        Laura      F     Kelly\n",
       "4         1089          Kanyon  1089   NaN      Richard      M    Rhodes"
      ]
     },
     "execution_count": 126,
     "metadata": {},
     "output_type": "execute_result"
    }
   ],
   "source": [
    "new_df = df[[\"customer_id\",\"shopping_mall\"]].copy()\n",
    "new_df[\"id\"] = new_df[\"customer_id\"]\n",
    "\n",
    "new_df = new_df.merge(dp, how = \"left\")\n",
    "new_df.head()"
   ]
  },
  {
   "cell_type": "code",
   "execution_count": 128,
   "metadata": {},
   "outputs": [
    {
     "name": "stdout",
     "output_type": "stream",
     "text": [
      "category         gender\n",
      "Books            F          2573\n",
      "                 M          2408\n",
      "Clothing         F         17808\n",
      "                 M         16679\n",
      "Cosmetics        F          7785\n",
      "                 M          7312\n",
      "Food & Beverage  F          7696\n",
      "                 M          7080\n",
      "Shoes            F          5167\n",
      "                 M          4867\n",
      "Souvenir         F          2571\n",
      "                 M          2428\n",
      "Technology       F          2533\n",
      "                 M          2463\n",
      "Toys             F          5253\n",
      "                 M          4834\n",
      "Name: count, dtype: int64\n"
     ]
    }
   ],
   "source": [
    "#2. Demographics related to price / quantity / category of items being bought\n",
    "df['total_revenue']=df['quantity']*df['price']\n",
    "\n",
    "merged_df = pd.merge(df[['price','category','quantity','total_revenue']], dp[['age','gender']], left_on=df['customer_id'],right_on=dp['id'])\n",
    "\n",
    "#basically count how frequent each gender buys a category\n",
    "\n",
    "counts = merged_df.groupby('category')['gender'].value_counts()\n",
    "print(counts)\n",
    "\n"
   ]
  },
  {
   "cell_type": "code",
   "execution_count": 131,
   "metadata": {},
   "outputs": [
    {
     "name": "stdout",
     "output_type": "stream",
     "text": [
      "           category payment_method  frequency\n",
      "0             Books           Cash       2268\n",
      "1             Books    Credit Card       1696\n",
      "2             Books     Debit Card       1017\n",
      "3          Clothing           Cash      15456\n",
      "4          Clothing    Credit Card      12025\n",
      "5          Clothing     Debit Card       7006\n",
      "6         Cosmetics           Cash       6674\n",
      "7         Cosmetics    Credit Card       5336\n",
      "8         Cosmetics     Debit Card       3087\n",
      "9   Food & Beverage           Cash       6587\n",
      "10  Food & Beverage    Credit Card       5250\n",
      "11  Food & Beverage     Debit Card       2939\n",
      "12            Shoes           Cash       4474\n",
      "13            Shoes    Credit Card       3553\n",
      "14            Shoes     Debit Card       2007\n",
      "15         Souvenir           Cash       2211\n",
      "16         Souvenir    Credit Card       1770\n",
      "17         Souvenir     Debit Card       1018\n",
      "18       Technology           Cash       2235\n",
      "19       Technology    Credit Card       1753\n",
      "20       Technology     Debit Card       1008\n",
      "21             Toys           Cash       4542\n",
      "22             Toys    Credit Card       3548\n",
      "23             Toys     Debit Card       1997\n"
     ]
    }
   ],
   "source": [
    "#3. Category and payment method (may preference ba in payment method when buying a specific category)\n",
    "frequency_table = df.groupby('category')['payment_method'].value_counts().reset_index(name='frequency')\n",
    "\n",
    "print(frequency_table)"
   ]
  },
  {
   "cell_type": "code",
   "execution_count": 106,
   "metadata": {},
   "outputs": [
    {
     "name": "stdout",
     "output_type": "stream",
     "text": [
      "   category      shopping_mall  frequency\n",
      "0     Books   Mall of Istanbul       1025\n",
      "1     Books             Kanyon       1013\n",
      "2     Books          Metrocity        752\n",
      "3     Books       Metropol AVM        476\n",
      "4     Books       Istinye Park        462\n",
      "..      ...                ...        ...\n",
      "75     Toys     Forum Istanbul        531\n",
      "76     Toys     Viaport Outlet        515\n",
      "77     Toys        Cevahir AVM        514\n",
      "78     Toys       Zorlu Center        513\n",
      "79     Toys  Emaar Square Mall        464\n",
      "\n",
      "[80 rows x 3 columns]\n"
     ]
    }
   ],
   "source": [
    "#4. Category and shopping mall (may specialty ba ung mall?)\n",
    "frequency_table = df.groupby('category')['shopping_mall'].value_counts().reset_index(name='frequency')\n",
    "\n",
    "print(frequency_table)"
   ]
  },
  {
   "cell_type": "code",
   "execution_count": 130,
   "metadata": {},
   "outputs": [],
   "source": [
    "#5. Daily / Monthly / Yearly breakdown of items sold in a given shopping mall\n"
   ]
  },
  {
   "cell_type": "code",
   "execution_count": null,
   "metadata": {},
   "outputs": [],
   "source": [
    "#6. Describing the customer using their purchase history (understanding user persona)"
   ]
  },
  {
   "cell_type": "code",
   "execution_count": 1,
   "metadata": {},
   "outputs": [],
   "source": [
    "#Easy\n",
    "#1. How many unique customers are in the dataset?\n",
    "\n",
    "#2. What are the different categories of products available? How many unique categories are there?\n",
    "\n",
    "#3. Which payment method is the most popular? How many times was it used?"
   ]
  },
  {
   "cell_type": "code",
   "execution_count": null,
   "metadata": {},
   "outputs": [],
   "source": [
    "#Medium\n",
    "#1. What are the three most popular categories, by total sales?\n",
    "\n",
    "#2. What are the total sales attributed to customers over the age of 45?\n",
    "\n",
    "#3. How is the data distributed across different invoice dates? Are there any seasonal trends or patterns? (Use a graph for this.)"
   ]
  },
  {
   "cell_type": "code",
   "execution_count": null,
   "metadata": {},
   "outputs": [],
   "source": [
    "#Hard\n",
    "#1. Create a pivot table showing the breakdown of sales across these dimensions, in this order: category, decade age range (e.g., 10-19, 20-29, and so forth)."
   ]
  }
 ],
 "metadata": {
  "kernelspec": {
   "display_name": "base",
   "language": "python",
   "name": "python3"
  },
  "language_info": {
   "codemirror_mode": {
    "name": "ipython",
    "version": 3
   },
   "file_extension": ".py",
   "mimetype": "text/x-python",
   "name": "python",
   "nbconvert_exporter": "python",
   "pygments_lexer": "ipython3",
   "version": "3.9.6"
  },
  "orig_nbformat": 4
 },
 "nbformat": 4,
 "nbformat_minor": 2
}
