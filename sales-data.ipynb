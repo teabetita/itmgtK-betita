{
 "cells": [
  {
   "cell_type": "code",
   "execution_count": 2,
   "metadata": {},
   "outputs": [
    {
     "name": "stdout",
     "output_type": "stream",
     "text": [
      "Requirement already satisfied: pandas in /Users/teabetita/anaconda3/lib/python3.10/site-packages (1.5.3)\n",
      "Requirement already satisfied: python-dateutil>=2.8.1 in /Users/teabetita/anaconda3/lib/python3.10/site-packages (from pandas) (2.8.2)\n",
      "Requirement already satisfied: pytz>=2020.1 in /Users/teabetita/anaconda3/lib/python3.10/site-packages (from pandas) (2022.7)\n",
      "Requirement already satisfied: numpy>=1.21.0 in /Users/teabetita/anaconda3/lib/python3.10/site-packages (from pandas) (1.23.5)\n",
      "Requirement already satisfied: six>=1.5 in /Users/teabetita/anaconda3/lib/python3.10/site-packages (from python-dateutil>=2.8.1->pandas) (1.16.0)\n",
      "Note: you may need to restart the kernel to use updated packages.\n"
     ]
    }
   ],
   "source": [
    "%pip install pandas \n",
    "import pandas as pd\n"
   ]
  },
  {
   "cell_type": "code",
   "execution_count": 3,
   "metadata": {},
   "outputs": [
    {
     "data": {
      "text/html": [
       "<div>\n",
       "<style scoped>\n",
       "    .dataframe tbody tr th:only-of-type {\n",
       "        vertical-align: middle;\n",
       "    }\n",
       "\n",
       "    .dataframe tbody tr th {\n",
       "        vertical-align: top;\n",
       "    }\n",
       "\n",
       "    .dataframe thead th {\n",
       "        text-align: right;\n",
       "    }\n",
       "</style>\n",
       "<table border=\"1\" class=\"dataframe\">\n",
       "  <thead>\n",
       "    <tr style=\"text-align: right;\">\n",
       "      <th></th>\n",
       "      <th>invoice_no</th>\n",
       "      <th>customer_id</th>\n",
       "      <th>category</th>\n",
       "      <th>quantity</th>\n",
       "      <th>price</th>\n",
       "      <th>payment_method</th>\n",
       "      <th>invoice_date</th>\n",
       "      <th>shopping_mall</th>\n",
       "    </tr>\n",
       "  </thead>\n",
       "  <tbody>\n",
       "    <tr>\n",
       "      <th>0</th>\n",
       "      <td>I138884</td>\n",
       "      <td>229</td>\n",
       "      <td>Clothing</td>\n",
       "      <td>5</td>\n",
       "      <td>1500.40</td>\n",
       "      <td>Credit Card</td>\n",
       "      <td>5/8/2022</td>\n",
       "      <td>Kanyon</td>\n",
       "    </tr>\n",
       "    <tr>\n",
       "      <th>1</th>\n",
       "      <td>I317333</td>\n",
       "      <td>3433</td>\n",
       "      <td>Shoes</td>\n",
       "      <td>3</td>\n",
       "      <td>1800.51</td>\n",
       "      <td>Debit Card</td>\n",
       "      <td>12/12/2021</td>\n",
       "      <td>Forum Istanbul</td>\n",
       "    </tr>\n",
       "    <tr>\n",
       "      <th>2</th>\n",
       "      <td>I127801</td>\n",
       "      <td>644</td>\n",
       "      <td>Clothing</td>\n",
       "      <td>1</td>\n",
       "      <td>300.08</td>\n",
       "      <td>Cash</td>\n",
       "      <td>9/11/2021</td>\n",
       "      <td>Metrocity</td>\n",
       "    </tr>\n",
       "    <tr>\n",
       "      <th>3</th>\n",
       "      <td>I173702</td>\n",
       "      <td>4900</td>\n",
       "      <td>Shoes</td>\n",
       "      <td>5</td>\n",
       "      <td>3000.85</td>\n",
       "      <td>Credit Card</td>\n",
       "      <td>16/05/2021</td>\n",
       "      <td>Metropol AVM</td>\n",
       "    </tr>\n",
       "    <tr>\n",
       "      <th>4</th>\n",
       "      <td>I337046</td>\n",
       "      <td>1089</td>\n",
       "      <td>Books</td>\n",
       "      <td>4</td>\n",
       "      <td>60.60</td>\n",
       "      <td>Cash</td>\n",
       "      <td>24/10/2021</td>\n",
       "      <td>Kanyon</td>\n",
       "    </tr>\n",
       "    <tr>\n",
       "      <th>...</th>\n",
       "      <td>...</td>\n",
       "      <td>...</td>\n",
       "      <td>...</td>\n",
       "      <td>...</td>\n",
       "      <td>...</td>\n",
       "      <td>...</td>\n",
       "      <td>...</td>\n",
       "      <td>...</td>\n",
       "    </tr>\n",
       "    <tr>\n",
       "      <th>99452</th>\n",
       "      <td>I219422</td>\n",
       "      <td>2344</td>\n",
       "      <td>Souvenir</td>\n",
       "      <td>5</td>\n",
       "      <td>58.65</td>\n",
       "      <td>Credit Card</td>\n",
       "      <td>21/09/2022</td>\n",
       "      <td>Kanyon</td>\n",
       "    </tr>\n",
       "    <tr>\n",
       "      <th>99453</th>\n",
       "      <td>I325143</td>\n",
       "      <td>172</td>\n",
       "      <td>Food &amp; Beverage</td>\n",
       "      <td>2</td>\n",
       "      <td>10.46</td>\n",
       "      <td>Cash</td>\n",
       "      <td>22/09/2021</td>\n",
       "      <td>Forum Istanbul</td>\n",
       "    </tr>\n",
       "    <tr>\n",
       "      <th>99454</th>\n",
       "      <td>I824010</td>\n",
       "      <td>425</td>\n",
       "      <td>Food &amp; Beverage</td>\n",
       "      <td>2</td>\n",
       "      <td>10.46</td>\n",
       "      <td>Debit Card</td>\n",
       "      <td>28/03/2021</td>\n",
       "      <td>Metrocity</td>\n",
       "    </tr>\n",
       "    <tr>\n",
       "      <th>99455</th>\n",
       "      <td>I702964</td>\n",
       "      <td>577</td>\n",
       "      <td>Technology</td>\n",
       "      <td>4</td>\n",
       "      <td>4200.00</td>\n",
       "      <td>Cash</td>\n",
       "      <td>16/03/2021</td>\n",
       "      <td>Istinye Park</td>\n",
       "    </tr>\n",
       "    <tr>\n",
       "      <th>99456</th>\n",
       "      <td>I232867</td>\n",
       "      <td>30</td>\n",
       "      <td>Souvenir</td>\n",
       "      <td>3</td>\n",
       "      <td>35.19</td>\n",
       "      <td>Credit Card</td>\n",
       "      <td>15/10/2022</td>\n",
       "      <td>Mall of Istanbul</td>\n",
       "    </tr>\n",
       "  </tbody>\n",
       "</table>\n",
       "<p>99457 rows × 8 columns</p>\n",
       "</div>"
      ],
      "text/plain": [
       "      invoice_no  customer_id         category  quantity    price  \\\n",
       "0        I138884          229         Clothing         5  1500.40   \n",
       "1        I317333         3433            Shoes         3  1800.51   \n",
       "2        I127801          644         Clothing         1   300.08   \n",
       "3        I173702         4900            Shoes         5  3000.85   \n",
       "4        I337046         1089            Books         4    60.60   \n",
       "...          ...          ...              ...       ...      ...   \n",
       "99452    I219422         2344         Souvenir         5    58.65   \n",
       "99453    I325143          172  Food & Beverage         2    10.46   \n",
       "99454    I824010          425  Food & Beverage         2    10.46   \n",
       "99455    I702964          577       Technology         4  4200.00   \n",
       "99456    I232867           30         Souvenir         3    35.19   \n",
       "\n",
       "      payment_method invoice_date     shopping_mall  \n",
       "0        Credit Card     5/8/2022            Kanyon  \n",
       "1         Debit Card   12/12/2021    Forum Istanbul  \n",
       "2               Cash    9/11/2021         Metrocity  \n",
       "3        Credit Card   16/05/2021      Metropol AVM  \n",
       "4               Cash   24/10/2021            Kanyon  \n",
       "...              ...          ...               ...  \n",
       "99452    Credit Card   21/09/2022            Kanyon  \n",
       "99453           Cash   22/09/2021    Forum Istanbul  \n",
       "99454     Debit Card   28/03/2021         Metrocity  \n",
       "99455           Cash   16/03/2021      Istinye Park  \n",
       "99456    Credit Card   15/10/2022  Mall of Istanbul  \n",
       "\n",
       "[99457 rows x 8 columns]"
      ]
     },
     "execution_count": 3,
     "metadata": {},
     "output_type": "execute_result"
    }
   ],
   "source": [
    "df = pd.read_csv(\"fct_invoice.csv\")\n",
    "df"
   ]
  },
  {
   "cell_type": "code",
   "execution_count": 4,
   "metadata": {},
   "outputs": [
    {
     "data": {
      "text/plain": [
       "Index(['invoice_no', 'customer_id', 'category', 'quantity', 'price',\n",
       "       'payment_method', 'invoice_date', 'shopping_mall'],\n",
       "      dtype='object')"
      ]
     },
     "execution_count": 4,
     "metadata": {},
     "output_type": "execute_result"
    }
   ],
   "source": [
    "df.columns"
   ]
  },
  {
   "cell_type": "code",
   "execution_count": 6,
   "metadata": {},
   "outputs": [],
   "source": [
    "import json\n",
    "\n",
    "#Loading up the JSON file\n",
    "with open(\"dim_customer.json\") as p:\n",
    "\tdata = json.load(p)\n",
    "\tdp=pd.DataFrame(data)\n",
    "\n",
    "# type(data)\n",
    "\n",
    "# data[\"age\"]\n"
   ]
  },
  {
   "cell_type": "code",
   "execution_count": 7,
   "metadata": {},
   "outputs": [
    {
     "data": {
      "text/plain": [
       "Index(['age', 'first_name', 'gender', 'id', 'last_name'], dtype='object')"
      ]
     },
     "execution_count": 7,
     "metadata": {},
     "output_type": "execute_result"
    }
   ],
   "source": [
    "dp.columns"
   ]
  },
  {
   "cell_type": "code",
   "execution_count": null,
   "metadata": {},
   "outputs": [],
   "source": [
    "# IN-CLASS ACTIVITY"
   ]
  },
  {
   "cell_type": "code",
   "execution_count": 15,
   "metadata": {},
   "outputs": [
    {
     "name": "stdout",
     "output_type": "stream",
     "text": [
      "5191\n",
      "50    128\n",
      "7     121\n",
      "4     117\n",
      "80    113\n",
      "74    112\n",
      "61    112\n",
      "75    110\n",
      "53    110\n",
      "26    109\n",
      "45    109\n",
      "Name: customer_id, dtype: int64\n",
      "----\n",
      "['Clothing' 'Shoes' 'Books' 'Cosmetics' 'Food & Beverage' 'Toys'\n",
      " 'Technology' 'Souvenir']\n",
      "number of unique categories: 8\n",
      "----\n",
      "Credit Card: 34931\n",
      "Debit Card: 20079\n",
      "Cash: 44447\n",
      "TOTAL: 99457\n",
      "----\n",
      "['Kanyon' 'Forum Istanbul' 'Metrocity' 'Metropol AVM' 'Istinye Park'\n",
      " 'Mall of Istanbul' 'Emaar Square Mall' 'Cevahir AVM' 'Viaport Outlet'\n",
      " 'Zorlu Center']\n"
     ]
    },
    {
     "name": "stderr",
     "output_type": "stream",
     "text": [
      "/var/folders/g1/cgdvqfl50_58xxxyz04jjxs80000gn/T/ipykernel_76373/1677041013.py:35: FutureWarning: The default value of numeric_only in DataFrameGroupBy.sum is deprecated. In a future version, numeric_only will default to False. Either specify numeric_only or select only columns which should be valid for the function.\n",
      "  df.groupby(\"shopping_mall\").sum()[\"total_revenues\"]\n"
     ]
    },
    {
     "data": {
      "text/plain": [
       "shopping_mall\n",
       "Cevahir AVM          12645138.20\n",
       "Emaar Square Mall    12406100.29\n",
       "Forum Istanbul       12303921.24\n",
       "Istinye Park         24618827.68\n",
       "Kanyon               50554231.10\n",
       "Mall of Istanbul     50872481.68\n",
       "Metrocity            37302787.33\n",
       "Metropol AVM         25379913.19\n",
       "Viaport Outlet       12521339.72\n",
       "Zorlu Center         12901053.82\n",
       "Name: total_revenues, dtype: float64"
      ]
     },
     "execution_count": 15,
     "metadata": {},
     "output_type": "execute_result"
    }
   ],
   "source": [
    "\n",
    "#Describing the data only (using only single column):\n",
    "#1. How many unique customers are there in the dataset? Can you identify any frequent or loyal customers?\n",
    "unique_customers = df[\"customer_id\"].unique()\n",
    "print(len(unique_customers))\n",
    "print(df[\"customer_id\"].value_counts()[0:10])\n",
    "print(\"----\")\n",
    "\n",
    "#2. What are the different categories of products available? How many unique categories are there?\n",
    "different_categories = df[\"category\"].unique()\n",
    "print(different_categories)\n",
    "print(\"number of unique categories:\", len(different_categories))\n",
    "print(\"----\")\n",
    "\n",
    "#3. What are the different payment methods used by customers? Which payment methods are the most popular?\n",
    "payment_methods = df[\"payment_method\"]\n",
    "credit_card = len(df.loc[df[\"payment_method\"]==\"Credit Card\"])\n",
    "debit_card = len(df.loc[df[\"payment_method\"]==\"Debit Card\"])\n",
    "cash = len(df.loc[df[\"payment_method\"]==\"Cash\"])\n",
    "print(\"Credit Card:\", credit_card)\n",
    "print(\"Debit Card:\", debit_card)\n",
    "print(\"Cash:\", cash)\n",
    "print(\"TOTAL:\", int(credit_card + debit_card + cash))\n",
    "print(\"----\")\n",
    "\n",
    "#4. How is the data distributed across different invoice dates? Are there any seasonal trends or patterns?\n",
    "# **\n",
    "\n",
    "#5. Which shopping malls are included in the dataset? Are there any malls that contribute more sales than others?\n",
    "shopping_malls = df[\"shopping_mall\"].unique()\n",
    "print(shopping_malls)\n",
    "\n",
    "df[\"total_revenues\"] = df[\"quantity\"] * df[\"price\"]\n",
    "df.head()\n",
    "\n",
    "df.groupby(\"shopping_mall\").sum()[\"total_revenues\"]\n"
   ]
  },
  {
   "cell_type": "code",
   "execution_count": 16,
   "metadata": {},
   "outputs": [
    {
     "name": "stdout",
     "output_type": "stream",
     "text": [
      "shopping_mall      gender\n",
      "Cevahir AVM        F          2594\n",
      "                   M          2397\n",
      "Emaar Square Mall  F          2460\n",
      "                   M          2351\n",
      "Forum Istanbul     F          2640\n",
      "                   M          2307\n",
      "Istinye Park       F          5016\n",
      "                   M          4765\n",
      "Kanyon             F         10244\n",
      "                   M          9579\n",
      "Mall of Istanbul   F         10233\n",
      "                   M          9710\n",
      "Metrocity          F          7756\n",
      "                   M          7255\n",
      "Metropol AVM       F          5230\n",
      "                   M          4931\n",
      "Viaport Outlet     F          2548\n",
      "                   M          2366\n",
      "Zorlu Center       F          2665\n",
      "                   M          2410\n",
      "Name: gender, dtype: int64\n"
     ]
    }
   ],
   "source": [
    "#Using two or more columns:\n",
    "#1. How many males or females are shopping in the particular shopping mall\n",
    "merged_df = pd.merge(df[[\"shopping_mall\"]], dp[[\"age\",\"gender\"]],left_on = df[\"customer_id\"],right_on =[dp[\"id\"]])\n",
    "\n",
    "counts = merged_df.groupby('shopping_mall')['gender'].value_counts()\n",
    "\n",
    "print(counts)\n"
   ]
  },
  {
   "cell_type": "code",
   "execution_count": null,
   "metadata": {},
   "outputs": [
    {
     "data": {
      "text/html": [
       "<div>\n",
       "<style scoped>\n",
       "    .dataframe tbody tr th:only-of-type {\n",
       "        vertical-align: middle;\n",
       "    }\n",
       "\n",
       "    .dataframe tbody tr th {\n",
       "        vertical-align: top;\n",
       "    }\n",
       "\n",
       "    .dataframe thead th {\n",
       "        text-align: right;\n",
       "    }\n",
       "</style>\n",
       "<table border=\"1\" class=\"dataframe\">\n",
       "  <thead>\n",
       "    <tr style=\"text-align: right;\">\n",
       "      <th></th>\n",
       "      <th>customer_id</th>\n",
       "      <th>shopping_mall</th>\n",
       "      <th>id</th>\n",
       "      <th>age</th>\n",
       "      <th>first_name</th>\n",
       "      <th>gender</th>\n",
       "      <th>last_name</th>\n",
       "    </tr>\n",
       "  </thead>\n",
       "  <tbody>\n",
       "    <tr>\n",
       "      <th>0</th>\n",
       "      <td>229</td>\n",
       "      <td>Kanyon</td>\n",
       "      <td>229</td>\n",
       "      <td>NaN</td>\n",
       "      <td>William</td>\n",
       "      <td>M</td>\n",
       "      <td>Anderson</td>\n",
       "    </tr>\n",
       "    <tr>\n",
       "      <th>1</th>\n",
       "      <td>3433</td>\n",
       "      <td>Forum Istanbul</td>\n",
       "      <td>3433</td>\n",
       "      <td>34.0</td>\n",
       "      <td>Danielle</td>\n",
       "      <td>F</td>\n",
       "      <td>Rivera</td>\n",
       "    </tr>\n",
       "    <tr>\n",
       "      <th>2</th>\n",
       "      <td>644</td>\n",
       "      <td>Metrocity</td>\n",
       "      <td>644</td>\n",
       "      <td>46.0</td>\n",
       "      <td>Christopher</td>\n",
       "      <td>M</td>\n",
       "      <td>Stephens</td>\n",
       "    </tr>\n",
       "    <tr>\n",
       "      <th>3</th>\n",
       "      <td>4900</td>\n",
       "      <td>Metropol AVM</td>\n",
       "      <td>4900</td>\n",
       "      <td>46.0</td>\n",
       "      <td>Laura</td>\n",
       "      <td>F</td>\n",
       "      <td>Kelly</td>\n",
       "    </tr>\n",
       "    <tr>\n",
       "      <th>4</th>\n",
       "      <td>1089</td>\n",
       "      <td>Kanyon</td>\n",
       "      <td>1089</td>\n",
       "      <td>NaN</td>\n",
       "      <td>Richard</td>\n",
       "      <td>M</td>\n",
       "      <td>Rhodes</td>\n",
       "    </tr>\n",
       "  </tbody>\n",
       "</table>\n",
       "</div>"
      ],
      "text/plain": [
       "   customer_id   shopping_mall    id   age   first_name gender last_name\n",
       "0          229          Kanyon   229   NaN      William      M  Anderson\n",
       "1         3433  Forum Istanbul  3433  34.0     Danielle      F    Rivera\n",
       "2          644       Metrocity   644  46.0  Christopher      M  Stephens\n",
       "3         4900    Metropol AVM  4900  46.0        Laura      F     Kelly\n",
       "4         1089          Kanyon  1089   NaN      Richard      M    Rhodes"
      ]
     },
     "execution_count": 126,
     "metadata": {},
     "output_type": "execute_result"
    }
   ],
   "source": [
    "new_df = df[[\"customer_id\",\"shopping_mall\"]].copy()\n",
    "new_df[\"id\"] = new_df[\"customer_id\"]\n",
    "\n",
    "new_df = new_df.merge(dp, how = \"left\")\n",
    "new_df.head()"
   ]
  },
  {
   "cell_type": "code",
   "execution_count": 19,
   "metadata": {},
   "outputs": [
    {
     "name": "stdout",
     "output_type": "stream",
     "text": [
      "category         gender\n",
      "Books            F          2573\n",
      "                 M          2408\n",
      "Clothing         F         17808\n",
      "                 M         16679\n",
      "Cosmetics        F          7785\n",
      "                 M          7312\n",
      "Food & Beverage  F          7696\n",
      "                 M          7080\n",
      "Shoes            F          5167\n",
      "                 M          4867\n",
      "Souvenir         F          2571\n",
      "                 M          2428\n",
      "Technology       F          2533\n",
      "                 M          2463\n",
      "Toys             F          5253\n",
      "                 M          4834\n",
      "Name: gender, dtype: int64\n"
     ]
    }
   ],
   "source": [
    "#2. Demographics related to price / quantity / category of items being bought\n",
    "df['total_revenues']=df['quantity'] * df['price']\n",
    "\n",
    "merged_df = pd.merge(df[['price','category','quantity','total_revenues']], dp[['age','gender']], left_on=df['customer_id'],right_on=dp['id'])\n",
    "\n",
    "\n",
    "counts = merged_df.groupby('category')['gender'].value_counts()\n",
    "print(counts)\n",
    "\n"
   ]
  },
  {
   "cell_type": "code",
   "execution_count": null,
   "metadata": {},
   "outputs": [
    {
     "name": "stdout",
     "output_type": "stream",
     "text": [
      "           category payment_method  frequency\n",
      "0             Books           Cash       2268\n",
      "1             Books    Credit Card       1696\n",
      "2             Books     Debit Card       1017\n",
      "3          Clothing           Cash      15456\n",
      "4          Clothing    Credit Card      12025\n",
      "5          Clothing     Debit Card       7006\n",
      "6         Cosmetics           Cash       6674\n",
      "7         Cosmetics    Credit Card       5336\n",
      "8         Cosmetics     Debit Card       3087\n",
      "9   Food & Beverage           Cash       6587\n",
      "10  Food & Beverage    Credit Card       5250\n",
      "11  Food & Beverage     Debit Card       2939\n",
      "12            Shoes           Cash       4474\n",
      "13            Shoes    Credit Card       3553\n",
      "14            Shoes     Debit Card       2007\n",
      "15         Souvenir           Cash       2211\n",
      "16         Souvenir    Credit Card       1770\n",
      "17         Souvenir     Debit Card       1018\n",
      "18       Technology           Cash       2235\n",
      "19       Technology    Credit Card       1753\n",
      "20       Technology     Debit Card       1008\n",
      "21             Toys           Cash       4542\n",
      "22             Toys    Credit Card       3548\n",
      "23             Toys     Debit Card       1997\n"
     ]
    }
   ],
   "source": [
    "#3. Category and payment method\n",
    "frequency_table = df.groupby('category')['payment_method'].value_counts().reset_index(name='frequency')\n",
    "\n",
    "print(frequency_table)"
   ]
  },
  {
   "cell_type": "code",
   "execution_count": null,
   "metadata": {},
   "outputs": [
    {
     "name": "stdout",
     "output_type": "stream",
     "text": [
      "   category      shopping_mall  frequency\n",
      "0     Books   Mall of Istanbul       1025\n",
      "1     Books             Kanyon       1013\n",
      "2     Books          Metrocity        752\n",
      "3     Books       Metropol AVM        476\n",
      "4     Books       Istinye Park        462\n",
      "..      ...                ...        ...\n",
      "75     Toys     Forum Istanbul        531\n",
      "76     Toys     Viaport Outlet        515\n",
      "77     Toys        Cevahir AVM        514\n",
      "78     Toys       Zorlu Center        513\n",
      "79     Toys  Emaar Square Mall        464\n",
      "\n",
      "[80 rows x 3 columns]\n"
     ]
    }
   ],
   "source": [
    "#4. Category and shopping mall\n",
    "frequency_table = df.groupby('category')['shopping_mall'].value_counts().reset_index(name='frequency')\n",
    "\n",
    "print(frequency_table)"
   ]
  },
  {
   "cell_type": "code",
   "execution_count": null,
   "metadata": {},
   "outputs": [],
   "source": [
    "#SUBMISSION"
   ]
  },
  {
   "cell_type": "code",
   "execution_count": null,
   "metadata": {},
   "outputs": [
    {
     "name": "stdout",
     "output_type": "stream",
     "text": [
      "5191\n",
      "customer_id\n",
      "50    128\n",
      "7     121\n",
      "4     117\n",
      "80    113\n",
      "74    112\n",
      "61    112\n",
      "75    110\n",
      "53    110\n",
      "26    109\n",
      "45    109\n",
      "Name: count, dtype: int64\n",
      "----\n",
      "['Clothing' 'Shoes' 'Books' 'Cosmetics' 'Food & Beverage' 'Toys'\n",
      " 'Technology' 'Souvenir']\n",
      "number of unique categories: 8\n",
      "----\n",
      "Credit Card: 34931\n",
      "Debit Card: 20079\n",
      "Cash: 44447\n",
      "TOTAL: 99457\n"
     ]
    }
   ],
   "source": [
    "#Easy\n",
    "#1. How many unique customers are in the dataset?\n",
    "unique_customers = df[\"customer_id\"].unique()\n",
    "print(len(unique_customers))\n",
    "print(df[\"customer_id\"].value_counts()[0:10])\n",
    "print(\"----\")\n",
    "\n",
    "#2. What are the different categories of products available? How many unique categories are there?\n",
    "different_categories = df[\"category\"].unique()\n",
    "print(different_categories)\n",
    "print(\"number of unique categories:\", len(different_categories))\n",
    "print(\"----\")\n",
    "\n",
    "#3. Which payment method is the most popular? How many times was it used?\n",
    "payment_methods = df[\"payment_method\"]\n",
    "credit_card = len(df.loc[df[\"payment_method\"]==\"Credit Card\"])\n",
    "debit_card = len(df.loc[df[\"payment_method\"]==\"Debit Card\"])\n",
    "cash = len(df.loc[df[\"payment_method\"]==\"Cash\"])\n",
    "print(\"Credit Card:\", credit_card)\n",
    "print(\"Debit Card:\", debit_card)\n",
    "print(\"Cash:\", cash)\n",
    "print(\"TOTAL:\", int(credit_card + debit_card + cash))"
   ]
  },
  {
   "cell_type": "code",
   "execution_count": 33,
   "metadata": {},
   "outputs": [
    {
     "name": "stdout",
     "output_type": "stream",
     "text": [
      "category\n",
      "Clothing      1.139968e+08\n",
      "Shoes         6.655345e+07\n",
      "Technology    5.786235e+07\n",
      "Name: total_revenues, dtype: float64\n",
      "----\n",
      "Total sales attributed to customers over 45: 82039768.15\n",
      "----\n"
     ]
    },
    {
     "name": "stderr",
     "output_type": "stream",
     "text": [
      "/var/folders/g1/cgdvqfl50_58xxxyz04jjxs80000gn/T/ipykernel_76373/3802681665.py:3: FutureWarning: The default value of numeric_only in DataFrameGroupBy.sum is deprecated. In a future version, numeric_only will default to False. Either specify numeric_only or select only columns which should be valid for the function.\n",
      "  category_sales = df.groupby(\"category\").sum()[\"total_revenues\"]\n"
     ]
    },
    {
     "data": {
      "image/png": "[encoded data removed]",
      "text/plain": [
       "<Figure size 640x480 with 1 Axes>"
      ]
     },
     "metadata": {},
     "output_type": "display_data"
    }
   ],
   "source": [
    "#Medium\n",
    "#1. What are the three most popular categories, by total sales?\n",
    "category_sales = df.groupby(\"category\").sum()[\"total_revenues\"]\n",
    "top_three_categories = category_sales.nlargest(3)\n",
    "print(top_three_categories)\n",
    "print(\"----\")\n",
    "\n",
    "#2. What are the total sales attributed to customers over the age of 45?\n",
    "merged_df = pd.merge(df[[\"total_revenues\"]], dp[[\"age\"]],left_on = df[\"customer_id\"],right_on =[dp[\"id\"]])\n",
    "filtered_df = merged_df[merged_df['age'] > 45]\n",
    "total_sales_over_45 = filtered_df['total_revenues'].sum()\n",
    "print(\"Total sales attributed to customers over 45:\", total_sales_over_45)\n",
    "print(\"----\")\n",
    "\n",
    "#3. How is the data distributed across different invoice dates? Are there any seasonal trends or patterns? (Use a graph for this.)\n",
    "import matplotlib.pyplot as plt\n",
    "import calendar\n",
    "\n",
    "df['invoice_date'] = pd.to_datetime(df['invoice_date'])\n",
    "df['year'] = df['invoice_date'].dt.year\n",
    "df['month'] = df['invoice_date'].dt.month\n",
    "\n",
    "data_by_year_month = df.groupby(['year', 'month']).size().reset_index(name='count')\n",
    "\n",
    "years = [2021, 2022, 2023]\n",
    "filtered_data = data_by_year_month[data_by_year_month['year'].isin(years)]\n",
    "colors = ['mediumturquoise', 'orange', 'yellowgreen']\n",
    "\n",
    "for i, year in enumerate(years):\n",
    "    year_data = filtered_data[filtered_data['year'] == year]\n",
    "    month_labels = [calendar.month_abbr[month] for month in year_data['month']]\n",
    "    plt.plot(month_labels, year_data['count'], color=colors[i], label=str(year))\n",
    "\n",
    "# Customize the graph\n",
    "plt.title('Sales Distribution by Month')\n",
    "plt.xlabel('Month')\n",
    "plt.ylabel('Number of Sales')\n",
    "plt.legend()\n",
    "\n",
    "# Display the graph\n",
    "plt.show()"
   ]
  },
  {
   "cell_type": "code",
   "execution_count": 45,
   "metadata": {},
   "outputs": [
    {
     "name": "stdout",
     "output_type": "stream",
     "text": [
      "decade_age_range        10.0         20.0         30.0         40.0  \\\n",
      "category                                                              \n",
      "Books               12801.75     79461.75     84143.10     87203.40   \n",
      "Clothing          1927413.84  10250732.80  11354126.96  11215189.92   \n",
      "Cosmetics          109619.36    605915.32    723544.70    665034.96   \n",
      "Food & Beverage     13582.31     73491.96     87246.86     89553.29   \n",
      "Shoes              993281.35   5924878.24   7200839.66   7025590.02   \n",
      "Souvenir            12375.15     54943.32     64092.72     66391.80   \n",
      "Technology        1129800.00   5261550.00   6159300.00   5954550.00   \n",
      "Toys                60426.24    385100.80    420582.40    390906.88   \n",
      "\n",
      "decade_age_range         50.0         60.0        70.0        80.0  \n",
      "category                                                            \n",
      "Books                74962.20     80476.80    54827.85    26664.00  \n",
      "Clothing          10321851.76  10660642.08  7769371.28  4493698.00  \n",
      "Cosmetics           587780.96    649990.76   419082.62   254531.60  \n",
      "Food & Beverage      72425.04     80976.09    55050.98    31332.93  \n",
      "Shoes              5852857.84   5978893.54  4480269.05  2628744.60  \n",
      "Souvenir             54943.32     55025.43    38673.81    23718.06  \n",
      "Technology         4435200.00   5471550.00  3638250.00  1946700.00  \n",
      "Toys                345067.52    363955.20   273244.16   153932.80  \n"
     ]
    }
   ],
   "source": [
    "#Hard\n",
    "#1. Create a pivot table showing the breakdown of sales across these dimensions, in this order: category, decade age range (e.g., 10-19, 20-29, and so forth).\n",
    "# Create a new column for decade age range\n",
    "import numpy as np\n",
    "\n",
    "merged_df = pd.merge(df[[\"total_revenues\",\"category\"]], dp[[\"age\"]],left_on = df[\"customer_id\"],right_on =[dp[\"id\"]])\n",
    "merged_df['decade_age_range'] = merged_df['age'] // 10 * 10\n",
    "\n",
    "# Create a pivot table showing the breakdown of sales\n",
    "pivot_table = pd.pivot_table(merged_df, values='total_revenues', index='category', columns='decade_age_range', aggfunc=np.sum)\n",
    "\n",
    "# Print the pivot table\n",
    "print(pivot_table)"
   ]
  }
 ],
 "metadata": {
  "kernelspec": {
   "display_name": "base",
   "language": "python",
   "name": "python3"
  },
  "language_info": {
   "codemirror_mode": {
    "name": "ipython",
    "version": 3
   },
   "file_extension": ".py",
   "mimetype": "text/x-python",
   "name": "python",
   "nbconvert_exporter": "python",
   "pygments_lexer": "ipython3",
   "version": "3.10.9"
  },
  "orig_nbformat": 4
 },
 "nbformat": 4,
 "nbformat_minor": 2
}
